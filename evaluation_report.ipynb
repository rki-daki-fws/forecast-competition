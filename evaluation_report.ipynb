{
 "cells": [
  {
   "cell_type": "markdown",
   "id": "de880236-3ef7-4272-98cf-a30a8e661544",
   "metadata": {},
   "source": [
    "<img src=\"figures/rki-logo.jpg\"\n",
    "     alt=\"Robert Koch Institut\"\n",
    "     style=\"float: right; margin-right: 100px; margin-top:20px;\" />\n",
    "\n",
    " <img src=\"figures/daki-fws.png\"\n",
    "     alt=\"DAKI-FWS\"\n",
    "     style=\"float: right; margin-right: 50px; margin-bottom:20px; height:80px; width:auto;\"/>\n",
    "<h1>Forecasting competition evaluation report</h1>\n",
    "<p style=\"margin-top:70px\">The evaluation of forecasting models is an essential step in the development of our early warning system. Here, we will assess the overall performance as well as performance over time and regions, which can help identify situations in which models may perform in an undesired fashion. Further, we will look whether under-, over-prediction, or the calibration with respect to uncertainty of the prediction are the main drivers of performance loss. This again is meant to help improve the model by identifying potential problems. Furthermore, the models will be assessed according to how well they specify the uncertainty of their predictions. Being able to correctly specify the uncertainty of the forecast is an essential requirement for infectious disease forecasts for the use in an early warning system.</p>"
   ]
  },
  {
   "cell_type": "code",
   "execution_count": 1,
   "id": "d9c643d0-a96a-4135-aeea-b8be7640ce13",
   "metadata": {},
   "outputs": [
    {
     "data": {
      "text/html": [
       "\n",
       "<script>\n",
       "function openTab(evt) {\n",
       "  var i, tabcontent, tablinks, tabname, tabgroup;\n",
       "\n",
       "  tabgroup = evt.currentTarget.parentElement.parentElement;\n",
       "\n",
       "  tabcontent = tabgroup.getElementsByClassName(\"tabcontent\");\n",
       "  for (i = 0; i < tabcontent.length; i++) {\n",
       "    tabcontent[i].style.display = \"none\";\n",
       "  }\n",
       "\n",
       "  tablinks = tabgroup.getElementsByClassName(\"tablinks\");\n",
       "\n",
       "  for (i = 0; i < tablinks.length; i++) {\n",
       "    tablinks[i].className = tablinks[i].className.replace(\" active\", \"\");\n",
       "  }\n",
       "  tabname = evt.currentTarget.textContent;\n",
       "  document.getElementById(tabname).style.display = \"block\";\n",
       "  evt.currentTarget.className += \" active\";\n",
       "\n",
       "}\n",
       "</script>\n"
      ],
      "text/plain": [
       "<IPython.core.display.HTML object>"
      ]
     },
     "metadata": {},
     "output_type": "display_data"
    },
    {
     "data": {
      "text/html": [
       "\n",
       "<style>\n",
       "body {font-family: Arial;}\n",
       ".jp-Cell{\n",
       "    max-width:1280px;\n",
       "    margin:0 auto;\n",
       "}\n",
       "\n",
       "/* Style the tab */\n",
       ".tab {\n",
       "  overflow: hidden;\n",
       "  background-color: white;\n",
       "}\n",
       "\n",
       "/* Style the buttons inside the tab */\n",
       ".tab button {\n",
       "  background: hsl(210,50%,50%);\n",
       "  /*float: left;*/\n",
       "  border: 1px solid #ccc;\n",
       "  outline: none;\n",
       "  cursor: pointer;\n",
       "  padding: 14px 16px;\n",
       "  transition: 0.3s;\n",
       "  font-size: 15px;\n",
       "  color:white;\n",
       "}\n",
       "\n",
       "/* Change background color of buttons on hover */\n",
       ".tab button:hover {\n",
       "  background: hsl(210,50%,40%); \n",
       "}\n",
       "\n",
       "/* Create an active/current tablink class */\n",
       ".tab button.active {\n",
       "  background-color: #ffffff;\n",
       "  color: black;\n",
       "  border-bottom: none;\n",
       "}\n",
       "\n",
       "/* Style the tab content */\n",
       ".tabcontent {\n",
       "  display: none;\n",
       "  padding: 6px 12px;\n",
       "  border: 1px solid #ccc;\n",
       "}\n",
       "</style>"
      ],
      "text/plain": [
       "<IPython.core.display.HTML object>"
      ]
     },
     "metadata": {},
     "output_type": "display_data"
    }
   ],
   "source": [
    "import pandas as pd\n",
    "import numpy as np\n",
    "import matplotlib.pyplot as plt\n",
    "import seaborn as sns\n",
    "from IPython.display import HTML, display\n",
    "from math import ceil\n",
    "import glob\n",
    "from scripts import visualizations\n",
    "from scripts import utils\n",
    "from scripts import scoring\n",
    "from scripts.generate_report import *\n",
    "\n",
    "# load data\n",
    "results = utils.load_results(\"results\", \"submissions\")\n",
    "results[\"model\"] = results[\"team\"].astype(str) + \"-\" + results[\"model\"].astype(str)\n",
    "results.drop([\"team\"], axis=1, inplace=True)\n",
    "\n",
    "# execute code for tab navigation\n",
    "display(HTML(js_tab_navigation))\n",
    "display(HTML(css_tab_navigation))"
   ]
  },
  {
   "cell_type": "code",
   "execution_count": null,
   "id": "05cc3535-8b7a-4027-98ee-dd4f171a5e45",
   "metadata": {},
   "outputs": [],
   "source": [
    "#utils.reset_results_file()"
   ]
  },
  {
   "cell_type": "code",
   "execution_count": 3,
   "id": "aee29a8d-8739-40bc-ad4a-ddaf5049a74d",
   "metadata": {},
   "outputs": [],
   "source": [
    "plt.ioff(); # turn matplotlib interactive mode off"
   ]
  },
  {
   "cell_type": "code",
   "execution_count": 2,
   "id": "b2adb497-f878-4374-b3b4-a0bcc272f775",
   "metadata": {},
   "outputs": [],
   "source": [
    "def save_current(figure_name):\n",
    "    \"\"\"\n",
    "    Saves current matplotlib figure to file, handles git commit\n",
    "    \"\"\"\n",
    "    # save current pyplot figure\n",
    "    plt.savefig(figure_name)\n",
    "    # do git stuff"
   ]
  },
  {
   "cell_type": "code",
   "execution_count": 3,
   "id": "08c846da-84db-4491-8323-134db9e290a3",
   "metadata": {},
   "outputs": [],
   "source": [
    "%matplotlib agg\n",
    "    \n",
    "wis_boxplot(aggregate_forecast_week(results, \"wis\"), \"model\", \"forecast_period\")\n",
    "save_current(\"docs/figures/boxplot.png\")"
   ]
  },
  {
   "cell_type": "markdown",
   "id": "2df870f9-8c36-423e-810f-631247f149cf",
   "metadata": {},
   "source": [
    " # Performance Evaluation\n",
    " The performance of all forecasts will be evaluated by the (relative) weighted interval score [WIS](https://cran.r-project.org/web/packages/scoringutils/vignettes/metric-details.html) which is a proper scoring rule that considers not only the point estimate but the entire predictive distribution. A smaller WIS indicates a better performance. The WIS allows to distinguish between performance loss due to over-prediction, under-prediction, and sharpness.\n",
    " ![Boxplots of weighted interval score by model and forecasting period for the years 2021 - 23](./figures/boxplot.png)\n",
    " \n",
    "***Fig 1: Comparison of forecasting model (submitted and baseline) performances in terms of (relative) WIS for the 4 different forecast horizons and the overall performance. Lower WIS indicates better performance. Boxplots are summaries of WIS scores for all counties and weeks for which a forecast was submitted. Models may differ in weeks and counties for which they have provided forecasts. Forecasts from baseline models exist for all counties and dates.***\n"
   ]
  },
  {
   "cell_type": "markdown",
   "id": "dbe4d619-0782-4f6b-bc6a-cb09845efb3c",
   "metadata": {},
   "source": [
    "**Table 1: (2021) Comparison of forecasting model (submitted and baseline) performances in terms of WIS for the 4 different forecast horizons and the overall performance. Here, the mean and 95% CI of the computed WIS scores is shown.**"
   ]
  },
  {
   "cell_type": "code",
   "execution_count": 4,
   "id": "5e99fd1b-0413-4b99-82df-c8a65f1c0e62",
   "metadata": {},
   "outputs": [
    {
     "data": {
      "text/html": [
       "<div>\n",
       "<style scoped>\n",
       "    .dataframe tbody tr th:only-of-type {\n",
       "        vertical-align: middle;\n",
       "    }\n",
       "\n",
       "    .dataframe tbody tr th {\n",
       "        vertical-align: top;\n",
       "    }\n",
       "\n",
       "    .dataframe thead th {\n",
       "        text-align: right;\n",
       "    }\n",
       "</style>\n",
       "<table border=\"1\" class=\"dataframe\">\n",
       "  <thead>\n",
       "    <tr style=\"text-align: right;\">\n",
       "      <th></th>\n",
       "      <th>model</th>\n",
       "      <th>complete score (CI)</th>\n",
       "      <th>week 1 score (CI)</th>\n",
       "      <th>week 2 score (CI)</th>\n",
       "      <th>week 3 score (CI)</th>\n",
       "      <th>week 4 score (CI)</th>\n",
       "    </tr>\n",
       "  </thead>\n",
       "  <tbody>\n",
       "    <tr>\n",
       "      <th>0</th>\n",
       "      <td>HHI-ConnstantSpreadTest</td>\n",
       "      <td>4.38 (/)</td>\n",
       "      <td>4.6 (/)</td>\n",
       "      <td>5.08 (/)</td>\n",
       "      <td>4.47 (/)</td>\n",
       "      <td>3.36 (/)</td>\n",
       "    </tr>\n",
       "    <tr>\n",
       "      <th>1</th>\n",
       "      <td>HPI-baseMpnnLstm</td>\n",
       "      <td>9.73 (5.74 - 13.73)</td>\n",
       "      <td>9.05 (5.71 - 12.39)</td>\n",
       "      <td>10.42 (5.73 - 15.11)</td>\n",
       "      <td>nan (/)</td>\n",
       "      <td>nan (/)</td>\n",
       "    </tr>\n",
       "    <tr>\n",
       "      <th>2</th>\n",
       "      <td>HPI-decomp1</td>\n",
       "      <td>30.29 (16.83 - 43.76)</td>\n",
       "      <td>27.38 (16.48 - 38.28)</td>\n",
       "      <td>28.62 (16.54 - 40.71)</td>\n",
       "      <td>31.41 (16.8 - 46.03)</td>\n",
       "      <td>33.76 (17.01 - 50.51)</td>\n",
       "    </tr>\n",
       "    <tr>\n",
       "      <th>3</th>\n",
       "      <td>RKIsurv2-arima</td>\n",
       "      <td>17.58 (10.84 - 24.32)</td>\n",
       "      <td>14.83 (9.5 - 20.16)</td>\n",
       "      <td>17.08 (10.43 - 23.72)</td>\n",
       "      <td>19.17 (11.48 - 26.85)</td>\n",
       "      <td>19.24 (11.75 - 26.72)</td>\n",
       "    </tr>\n",
       "    <tr>\n",
       "      <th>4</th>\n",
       "      <td>RKIsurv2-etsAAA</td>\n",
       "      <td>16.93 (9.14 - 24.73)</td>\n",
       "      <td>14.03 (8.06 - 19.99)</td>\n",
       "      <td>17.05 (8.9 - 25.21)</td>\n",
       "      <td>18.77 (9.54 - 28.01)</td>\n",
       "      <td>17.88 (9.76 - 26.0)</td>\n",
       "    </tr>\n",
       "    <tr>\n",
       "      <th>5</th>\n",
       "      <td>RKIsurv2-etsAAN</td>\n",
       "      <td>17.41 (9.53 - 25.3)</td>\n",
       "      <td>14.35 (8.25 - 20.44)</td>\n",
       "      <td>17.44 (9.09 - 25.79)</td>\n",
       "      <td>19.21 (9.81 - 28.6)</td>\n",
       "      <td>18.65 (10.58 - 26.71)</td>\n",
       "    </tr>\n",
       "    <tr>\n",
       "      <th>6</th>\n",
       "      <td>RKIsurv2-etsANN</td>\n",
       "      <td>17.12 (9.62 - 24.61)</td>\n",
       "      <td>14.37 (8.58 - 20.15)</td>\n",
       "      <td>17.08 (9.63 - 24.53)</td>\n",
       "      <td>18.73 (10.06 - 27.39)</td>\n",
       "      <td>18.29 (10.0 - 26.58)</td>\n",
       "    </tr>\n",
       "  </tbody>\n",
       "</table>\n",
       "</div>"
      ],
      "text/plain": [
       "                     model    complete score (CI)      week 1 score (CI)  \\\n",
       "0  HHI-ConnstantSpreadTest               4.38 (/)                4.6 (/)   \n",
       "1         HPI-baseMpnnLstm    9.73 (5.74 - 13.73)    9.05 (5.71 - 12.39)   \n",
       "2              HPI-decomp1  30.29 (16.83 - 43.76)  27.38 (16.48 - 38.28)   \n",
       "3           RKIsurv2-arima  17.58 (10.84 - 24.32)    14.83 (9.5 - 20.16)   \n",
       "4          RKIsurv2-etsAAA   16.93 (9.14 - 24.73)   14.03 (8.06 - 19.99)   \n",
       "5          RKIsurv2-etsAAN    17.41 (9.53 - 25.3)   14.35 (8.25 - 20.44)   \n",
       "6          RKIsurv2-etsANN   17.12 (9.62 - 24.61)   14.37 (8.58 - 20.15)   \n",
       "\n",
       "       week 2 score (CI)      week 3 score (CI)      week 4 score (CI)  \n",
       "0               5.08 (/)               4.47 (/)               3.36 (/)  \n",
       "1   10.42 (5.73 - 15.11)                nan (/)                nan (/)  \n",
       "2  28.62 (16.54 - 40.71)   31.41 (16.8 - 46.03)  33.76 (17.01 - 50.51)  \n",
       "3  17.08 (10.43 - 23.72)  19.17 (11.48 - 26.85)  19.24 (11.75 - 26.72)  \n",
       "4    17.05 (8.9 - 25.21)   18.77 (9.54 - 28.01)    17.88 (9.76 - 26.0)  \n",
       "5   17.44 (9.09 - 25.79)    19.21 (9.81 - 28.6)  18.65 (10.58 - 26.71)  \n",
       "6   17.08 (9.63 - 24.53)  18.73 (10.06 - 27.39)   18.29 (10.0 - 26.58)  "
      ]
     },
     "execution_count": 4,
     "metadata": {},
     "output_type": "execute_result"
    }
   ],
   "source": [
    "tab1 = corresponding_boxplot_table(results[results.refdate < np.datetime64(\"2022-01-01\")])\n",
    "tab2 = corresponding_boxplot_table(results[(results.refdate >= np.datetime64(\"2022-01-01\")) & (results.refdate <= np.datetime64(\"2022-12-31\"))])\n",
    "tab3 = corresponding_boxplot_table(results[results.refdate >= np.datetime64(\"2023-01-01\")])\n",
    "tab1"
   ]
  },
  {
   "cell_type": "markdown",
   "id": "b22d19da-5e97-4a86-9d7c-c3f002a94975",
   "metadata": {},
   "source": [
    "**Table 2: (2022) Comparison of forecasting model (submitted and baseline) performances in terms of WIS for the 4 different forecast horizons and the overall performance. Here, the mean and 95% CI of the computed WIS scores is shown.**"
   ]
  },
  {
   "cell_type": "code",
   "execution_count": 5,
   "id": "ffb52692-a9dc-483c-a88b-41169141938e",
   "metadata": {},
   "outputs": [
    {
     "data": {
      "text/html": [
       "<div>\n",
       "<style scoped>\n",
       "    .dataframe tbody tr th:only-of-type {\n",
       "        vertical-align: middle;\n",
       "    }\n",
       "\n",
       "    .dataframe tbody tr th {\n",
       "        vertical-align: top;\n",
       "    }\n",
       "\n",
       "    .dataframe thead th {\n",
       "        text-align: right;\n",
       "    }\n",
       "</style>\n",
       "<table border=\"1\" class=\"dataframe\">\n",
       "  <thead>\n",
       "    <tr style=\"text-align: right;\">\n",
       "      <th></th>\n",
       "      <th>model</th>\n",
       "      <th>complete score (CI)</th>\n",
       "      <th>week 1 score (CI)</th>\n",
       "      <th>week 2 score (CI)</th>\n",
       "      <th>week 3 score (CI)</th>\n",
       "      <th>week 4 score (CI)</th>\n",
       "    </tr>\n",
       "  </thead>\n",
       "  <tbody>\n",
       "    <tr>\n",
       "      <th>0</th>\n",
       "      <td>HHI-seq2seq4096d14</td>\n",
       "      <td>3300.33 (/)</td>\n",
       "      <td>3520.98 (/)</td>\n",
       "      <td>3370.79 (/)</td>\n",
       "      <td>2965.76 (/)</td>\n",
       "      <td>3343.78 (/)</td>\n",
       "    </tr>\n",
       "    <tr>\n",
       "      <th>1</th>\n",
       "      <td>HHI-seq2seq4096d21</td>\n",
       "      <td>3320.37 (/)</td>\n",
       "      <td>3540.25 (/)</td>\n",
       "      <td>3392.25 (/)</td>\n",
       "      <td>2982.02 (/)</td>\n",
       "      <td>3366.98 (/)</td>\n",
       "    </tr>\n",
       "    <tr>\n",
       "      <th>2</th>\n",
       "      <td>HHI-seq2seq4096d28</td>\n",
       "      <td>3319.39 (/)</td>\n",
       "      <td>3541.05 (/)</td>\n",
       "      <td>3392.43 (/)</td>\n",
       "      <td>2978.57 (/)</td>\n",
       "      <td>3365.5 (/)</td>\n",
       "    </tr>\n",
       "    <tr>\n",
       "      <th>3</th>\n",
       "      <td>HPI-decomp1</td>\n",
       "      <td>609.71 (459.25 - 760.17)</td>\n",
       "      <td>524.15 (425.15 - 623.14)</td>\n",
       "      <td>563.27 (442.34 - 684.19)</td>\n",
       "      <td>699.91 (520.3 - 879.52)</td>\n",
       "      <td>651.5 (374.36 - 928.65)</td>\n",
       "    </tr>\n",
       "    <tr>\n",
       "      <th>4</th>\n",
       "      <td>RKIsurv2-arima</td>\n",
       "      <td>225.58 (170.93 - 280.23)</td>\n",
       "      <td>221.41 (173.64 - 269.19)</td>\n",
       "      <td>219.26 (169.57 - 268.95)</td>\n",
       "      <td>263.87 (192.91 - 334.83)</td>\n",
       "      <td>214.16 (153.68 - 274.63)</td>\n",
       "    </tr>\n",
       "    <tr>\n",
       "      <th>5</th>\n",
       "      <td>RKIsurv2-etsAAA</td>\n",
       "      <td>257.92 (200.62 - 315.22)</td>\n",
       "      <td>268.13 (214.58 - 321.68)</td>\n",
       "      <td>251.63 (200.27 - 303.0)</td>\n",
       "      <td>292.85 (220.01 - 365.7)</td>\n",
       "      <td>238.72 (174.55 - 302.89)</td>\n",
       "    </tr>\n",
       "    <tr>\n",
       "      <th>6</th>\n",
       "      <td>RKIsurv2-etsAAN</td>\n",
       "      <td>260.09 (203.5 - 316.67)</td>\n",
       "      <td>270.12 (218.31 - 321.94)</td>\n",
       "      <td>253.3 (202.55 - 304.05)</td>\n",
       "      <td>296.09 (222.82 - 369.37)</td>\n",
       "      <td>240.77 (177.53 - 304.01)</td>\n",
       "    </tr>\n",
       "    <tr>\n",
       "      <th>7</th>\n",
       "      <td>RKIsurv2-etsANN</td>\n",
       "      <td>210.52 (161.48 - 259.55)</td>\n",
       "      <td>199.39 (158.17 - 240.6)</td>\n",
       "      <td>204.91 (160.98 - 248.84)</td>\n",
       "      <td>250.04 (185.14 - 314.94)</td>\n",
       "      <td>202.2 (144.85 - 259.55)</td>\n",
       "    </tr>\n",
       "  </tbody>\n",
       "</table>\n",
       "</div>"
      ],
      "text/plain": [
       "                model       complete score (CI)         week 1 score (CI)  \\\n",
       "0  HHI-seq2seq4096d14               3300.33 (/)               3520.98 (/)   \n",
       "1  HHI-seq2seq4096d21               3320.37 (/)               3540.25 (/)   \n",
       "2  HHI-seq2seq4096d28               3319.39 (/)               3541.05 (/)   \n",
       "3         HPI-decomp1  609.71 (459.25 - 760.17)  524.15 (425.15 - 623.14)   \n",
       "4      RKIsurv2-arima  225.58 (170.93 - 280.23)  221.41 (173.64 - 269.19)   \n",
       "5     RKIsurv2-etsAAA  257.92 (200.62 - 315.22)  268.13 (214.58 - 321.68)   \n",
       "6     RKIsurv2-etsAAN   260.09 (203.5 - 316.67)  270.12 (218.31 - 321.94)   \n",
       "7     RKIsurv2-etsANN  210.52 (161.48 - 259.55)   199.39 (158.17 - 240.6)   \n",
       "\n",
       "          week 2 score (CI)         week 3 score (CI)  \\\n",
       "0               3370.79 (/)               2965.76 (/)   \n",
       "1               3392.25 (/)               2982.02 (/)   \n",
       "2               3392.43 (/)               2978.57 (/)   \n",
       "3  563.27 (442.34 - 684.19)   699.91 (520.3 - 879.52)   \n",
       "4  219.26 (169.57 - 268.95)  263.87 (192.91 - 334.83)   \n",
       "5   251.63 (200.27 - 303.0)   292.85 (220.01 - 365.7)   \n",
       "6   253.3 (202.55 - 304.05)  296.09 (222.82 - 369.37)   \n",
       "7  204.91 (160.98 - 248.84)  250.04 (185.14 - 314.94)   \n",
       "\n",
       "          week 4 score (CI)  \n",
       "0               3343.78 (/)  \n",
       "1               3366.98 (/)  \n",
       "2                3365.5 (/)  \n",
       "3   651.5 (374.36 - 928.65)  \n",
       "4  214.16 (153.68 - 274.63)  \n",
       "5  238.72 (174.55 - 302.89)  \n",
       "6  240.77 (177.53 - 304.01)  \n",
       "7   202.2 (144.85 - 259.55)  "
      ]
     },
     "execution_count": 5,
     "metadata": {},
     "output_type": "execute_result"
    }
   ],
   "source": [
    "tab2"
   ]
  },
  {
   "cell_type": "markdown",
   "id": "5358cd40-03c0-46d9-9fb8-d52d09393d98",
   "metadata": {},
   "source": [
    "**Table 3: (2023) Comparison of forecasting model (submitted and baseline) performances in terms of WIS for the 4 different forecast horizons and the overall performance. Here, the mean and 95% CI of the computed WIS scores is shown.**"
   ]
  },
  {
   "cell_type": "code",
   "execution_count": 6,
   "id": "d3ea990f-2f79-4716-8b3e-1dc9bdd73277",
   "metadata": {},
   "outputs": [
    {
     "data": {
      "text/html": [
       "<div>\n",
       "<style scoped>\n",
       "    .dataframe tbody tr th:only-of-type {\n",
       "        vertical-align: middle;\n",
       "    }\n",
       "\n",
       "    .dataframe tbody tr th {\n",
       "        vertical-align: top;\n",
       "    }\n",
       "\n",
       "    .dataframe thead th {\n",
       "        text-align: right;\n",
       "    }\n",
       "</style>\n",
       "<table border=\"1\" class=\"dataframe\">\n",
       "  <thead>\n",
       "    <tr style=\"text-align: right;\">\n",
       "      <th></th>\n",
       "      <th>model</th>\n",
       "      <th>complete score (CI)</th>\n",
       "      <th>week 1 score (CI)</th>\n",
       "      <th>week 2 score (CI)</th>\n",
       "      <th>week 3 score (CI)</th>\n",
       "      <th>week 4 score (CI)</th>\n",
       "    </tr>\n",
       "  </thead>\n",
       "  <tbody>\n",
       "    <tr>\n",
       "      <th>0</th>\n",
       "      <td>RKIsurv2-arima</td>\n",
       "      <td>35.75 (29.17 - 42.33)</td>\n",
       "      <td>36.88 (28.78 - 44.98)</td>\n",
       "      <td>39.2 (32.57 - 45.84)</td>\n",
       "      <td>39.9 (35.4 - 44.4)</td>\n",
       "      <td>38.58 (35.35 - 41.81)</td>\n",
       "    </tr>\n",
       "    <tr>\n",
       "      <th>1</th>\n",
       "      <td>RKIsurv2-etsAAA</td>\n",
       "      <td>41.42 (32.97 - 49.87)</td>\n",
       "      <td>40.4 (30.91 - 49.88)</td>\n",
       "      <td>46.13 (36.49 - 55.78)</td>\n",
       "      <td>47.59 (41.16 - 54.01)</td>\n",
       "      <td>48.29 (44.74 - 51.84)</td>\n",
       "    </tr>\n",
       "    <tr>\n",
       "      <th>2</th>\n",
       "      <td>RKIsurv2-etsAAN</td>\n",
       "      <td>46.5 (37.02 - 55.97)</td>\n",
       "      <td>46.57 (35.77 - 57.36)</td>\n",
       "      <td>50.49 (40.45 - 60.53)</td>\n",
       "      <td>52.66 (45.4 - 59.92)</td>\n",
       "      <td>54.25 (50.14 - 58.37)</td>\n",
       "    </tr>\n",
       "    <tr>\n",
       "      <th>3</th>\n",
       "      <td>RKIsurv2-etsANN</td>\n",
       "      <td>29.93 (24.05 - 35.8)</td>\n",
       "      <td>32.05 (23.86 - 40.24)</td>\n",
       "      <td>34.48 (27.09 - 41.86)</td>\n",
       "      <td>31.96 (27.67 - 36.25)</td>\n",
       "      <td>30.45 (26.26 - 34.65)</td>\n",
       "    </tr>\n",
       "  </tbody>\n",
       "</table>\n",
       "</div>"
      ],
      "text/plain": [
       "             model    complete score (CI)      week 1 score (CI)  \\\n",
       "0   RKIsurv2-arima  35.75 (29.17 - 42.33)  36.88 (28.78 - 44.98)   \n",
       "1  RKIsurv2-etsAAA  41.42 (32.97 - 49.87)   40.4 (30.91 - 49.88)   \n",
       "2  RKIsurv2-etsAAN   46.5 (37.02 - 55.97)  46.57 (35.77 - 57.36)   \n",
       "3  RKIsurv2-etsANN   29.93 (24.05 - 35.8)  32.05 (23.86 - 40.24)   \n",
       "\n",
       "       week 2 score (CI)      week 3 score (CI)      week 4 score (CI)  \n",
       "0   39.2 (32.57 - 45.84)     39.9 (35.4 - 44.4)  38.58 (35.35 - 41.81)  \n",
       "1  46.13 (36.49 - 55.78)  47.59 (41.16 - 54.01)  48.29 (44.74 - 51.84)  \n",
       "2  50.49 (40.45 - 60.53)   52.66 (45.4 - 59.92)  54.25 (50.14 - 58.37)  \n",
       "3  34.48 (27.09 - 41.86)  31.96 (27.67 - 36.25)  30.45 (26.26 - 34.65)  "
      ]
     },
     "execution_count": 6,
     "metadata": {},
     "output_type": "execute_result"
    }
   ],
   "source": [
    "tab3"
   ]
  },
  {
   "cell_type": "code",
   "execution_count": 3,
   "id": "559b1617-5a47-4c21-bf00-431c8453baad",
   "metadata": {},
   "outputs": [],
   "source": [
    "%matplotlib agg\n",
    "create_figures_baseline_comparison(results, baseline=\"RKIsurv2-arima\")"
   ]
  },
  {
   "cell_type": "markdown",
   "id": "302fb966-115b-4aaa-a75e-e40d6eabd092",
   "metadata": {},
   "source": [
    "## Performance over time\n",
    "The forecasting performance of each individual model in terms of relative WIS for each time point a forecast was submitted is shown. The performance of the submitted model (blue lines) is compared to a baseline model (green lines). The average WIS per forecast date over all counties is shown for the four different forecasting horizons. An ARIMA model was chosen as the baseline."
   ]
  },
  {
   "cell_type": "code",
   "execution_count": 19,
   "id": "592cdc40-4ead-4b48-9dbd-435313b9cb3c",
   "metadata": {},
   "outputs": [
    {
     "data": {
      "text/html": [
       "<div class=\"tabgroup\"><div class=\"tab\"><button class=\"tablinks active\" onclick=\"openTab(event)\">HHI-ConnstantSpreadTest</button><button class=\"tablinks\" onclick=\"openTab(event)\">HPI-baseMpnnLstm</button><button class=\"tablinks\" onclick=\"openTab(event)\">HPI-decomp1</button><button class=\"tablinks\" onclick=\"openTab(event)\">RKIsurv2-etsAAA</button><button class=\"tablinks\" onclick=\"openTab(event)\">RKIsurv2-etsAAN</button><button class=\"tablinks\" onclick=\"openTab(event)\">RKIsurv2-etsANN</button></div><div id=\"HHI-ConnstantSpreadTest\" class=\"tabcontent\" style=\"display:block;\"><img src=\"./figures\\baseline_HHI-ConnstantSpreadTest.png\" alt=\"weighted interval score comparison HHI-ConnstantSpreadTest\" /></div><div id=\"HPI-baseMpnnLstm\" class=\"tabcontent\"><img src=\"./figures\\baseline_HPI-baseMpnnLstm.png\" alt=\"weighted interval score comparison HPI-baseMpnnLstm\" /></div><div id=\"HPI-decomp1\" class=\"tabcontent\"><img src=\"./figures\\baseline_HPI-decomp1.png\" alt=\"weighted interval score comparison HPI-decomp1\" /></div><div id=\"RKIsurv2-etsAAA\" class=\"tabcontent\"><img src=\"./figures\\baseline_RKIsurv2-etsAAA.png\" alt=\"weighted interval score comparison RKIsurv2-etsAAA\" /></div><div id=\"RKIsurv2-etsAAN\" class=\"tabcontent\"><img src=\"./figures\\baseline_RKIsurv2-etsAAN.png\" alt=\"weighted interval score comparison RKIsurv2-etsAAN\" /></div><div id=\"RKIsurv2-etsANN\" class=\"tabcontent\"><img src=\"./figures\\baseline_RKIsurv2-etsANN.png\" alt=\"weighted interval score comparison RKIsurv2-etsANN\" /></div></div>"
      ],
      "text/plain": [
       "<IPython.core.display.HTML object>"
      ]
     },
     "metadata": {},
     "output_type": "display_data"
    }
   ],
   "source": [
    "figures = glob.glob(\"./docs/figures/baseline_*.png\")\n",
    "figures = [f.replace('./docs/','') for f in figures] # docs is root in deployed github page\n",
    "models = [fig.split(\"baseline_\")[1][:-4] for fig in figures]\n",
    "models_dict = {models[i]: f'<img src=\"{fig}\" alt=\"weighted interval score comparison {models[i]}\" />' for i, fig in enumerate(figures)} \n",
    "\n",
    "for dm in ['HHI-seq2seq4096d14','HHI-seq2seq4096d21', 'HHI-seq2seq4096d28']:\n",
    "    del models_dict[dm]\n",
    "    \n",
    "display(HTML(generate_tabbed_content(models_dict)))"
   ]
  },
  {
   "cell_type": "markdown",
   "id": "08f1e3d2-a030-46c4-b3aa-a048c9894ff5",
   "metadata": {},
   "source": [
    "## Weighted interval score composition"
   ]
  },
  {
   "cell_type": "code",
   "execution_count": null,
   "id": "25fd859f-e1f3-46ae-a8f4-346f65481fa5",
   "metadata": {},
   "outputs": [],
   "source": [
    "%matplotlib agg  \n",
    "\n",
    "figure_wis_composition(results, \"Composition of WIS (Year 2021)\", max_date=\"2021-09-01\",)\n",
    "\n",
    "save_current(\"docs/figures/wis_composition_21.png\")"
   ]
  },
  {
   "cell_type": "code",
   "execution_count": 3,
   "id": "e5403434-1a20-446c-99c4-ffe00fa136af",
   "metadata": {},
   "outputs": [],
   "source": [
    "%matplotlib agg  \n",
    "\n",
    "figure_wis_composition(results, \"Composition of WIS (Year 2022)\", min_date=\"2022-01-01\", max_date=\"2022-12-31\",\n",
    "                       drop_models=[\"HHI-seq2seq4096d14\", \"HHI-seq2seq4096d21\", \"HHI-seq2seq4096d28\"])\n",
    "\n",
    "save_current(\"docs/figures/wis_composition_22.png\")"
   ]
  },
  {
   "cell_type": "code",
   "execution_count": 4,
   "id": "68975845-615d-459d-a2f1-347ea07d56a9",
   "metadata": {},
   "outputs": [],
   "source": [
    "figure_wis_composition(results, \"Composition of WIS (Year 2023)\", min_date=\"2023-01-01\",\n",
    "                       drop_models=[\"HHI-seq2seq4096d14\", \"HHI-seq2seq4096d21\", \"HHI-seq2seq4096d28\"])\n",
    "\n",
    "save_current(\"docs/figures/wis_composition_23.png\")"
   ]
  },
  {
   "cell_type": "markdown",
   "id": "52c62875-b5c4-4974-bddd-8a1d3b763fa1",
   "metadata": {},
   "source": [
    "## Performance contribution\n",
    "The three components of the WIS are for each individual model and each time point for which a forecast was submitted is shown. The components of the WIS are penalties for over-prediction (red), under-prediction (green) and for lack of sharpness of the predictive distribution (blue). "
   ]
  },
  {
   "cell_type": "code",
   "execution_count": 2,
   "id": "c6922591-8382-4dc4-a5d5-96535820d673",
   "metadata": {},
   "outputs": [
    {
     "data": {
      "text/html": [
       "<div class=\"tabgroup\"><div class=\"tab\"><button class=\"tablinks active\" onclick=\"openTab(event)\">2023</button><button class=\"tablinks\" onclick=\"openTab(event)\">2022</button><button class=\"tablinks\" onclick=\"openTab(event)\">2021</button></div><div id=\"2023\" class=\"tabcontent\" style=\"display:block;\"><img src=\"docs/figures/wis_composition_23.png\" alt=\"Weighted interval score composition 2023\"/></div><div id=\"2022\" class=\"tabcontent\"><img src=\"docs/figures/wis_composition_22.png\" alt=\"Weighted interval score composition 2022\"/></div><div id=\"2021\" class=\"tabcontent\"><img src=\"docs/figures/wis_composition_21.png\" alt=\"Weighted interval score composition 2021\"/></div></div>"
      ],
      "text/plain": [
       "<IPython.core.display.HTML object>"
      ]
     },
     "metadata": {},
     "output_type": "display_data"
    }
   ],
   "source": [
    "year_dict = {\"2023\": '<img src=\"figures/wis_composition_23.png\" alt=\"Weighted interval score composition 2023\"/>',\n",
    "             \"2022\": '<img src=\"figures/wis_composition_22.png\" alt=\"Weighted interval score composition 2022\"/>',\n",
    "             \"2021\": '<img src=\"figures/wis_composition_21.png\" alt=\"Weighted interval score composition 2021\"/>'}\n",
    "\n",
    "\n",
    "display(HTML(generate_tabbed_content(year_dict)))"
   ]
  },
  {
   "cell_type": "markdown",
   "id": "5aca7727-cbb8-45d9-8cfc-ef61c8183416",
   "metadata": {},
   "source": [
    "# Relative scores\n",
    "The Relative WIS (column rel_wis) is a relative measure of forecast performance which takes into account that different teams may not cover the exact same set of forecast targets (i.e., weeks and locations). Loosely speaking, a relative WIS of X means that averaged over the targets a given team addressed, its WIS was X times higher/lower than the performance of the baseline model described in [Cramer et al. (2021)](https://www.medrxiv.org/content/10.1101/2021.02.03.21250974v1). Smaller values are thus better and a value below one means that the model performers above average. The relative WIS is computed using a ‘pairwise comparison tournament’ where for each pair of models a mean score ratio is computed based on the set of shared targets. The relative WIS is the geometric mean of these ratios. Details on the computation can be found in [Cramer et al. (2021)](https://www.medrxiv.org/content/10.1101/2021.02.03.21250974v1)."
   ]
  },
  {
   "cell_type": "markdown",
   "id": "a989bf41-8b7d-47c4-bd58-2c6bdcb9a6b0",
   "metadata": {},
   "source": [
    "**Table 4: Relative WIS and MAE scores per model, with ARIMA as the baseline.**"
   ]
  },
  {
   "cell_type": "code",
   "execution_count": 7,
   "id": "23d4df74-6636-4d8b-b8ca-4755e79ca46d",
   "metadata": {},
   "outputs": [
    {
     "data": {
      "text/html": [
       "<div>\n",
       "<style scoped>\n",
       "    .dataframe tbody tr th:only-of-type {\n",
       "        vertical-align: middle;\n",
       "    }\n",
       "\n",
       "    .dataframe tbody tr th {\n",
       "        vertical-align: top;\n",
       "    }\n",
       "\n",
       "    .dataframe thead th {\n",
       "        text-align: right;\n",
       "    }\n",
       "</style>\n",
       "<table border=\"1\" class=\"dataframe\">\n",
       "  <thead>\n",
       "    <tr style=\"text-align: right;\">\n",
       "      <th></th>\n",
       "      <th>model</th>\n",
       "      <th>n</th>\n",
       "      <th>rel_wis</th>\n",
       "      <th>rel_mae</th>\n",
       "      <th>50% coverage</th>\n",
       "      <th>95% coverage</th>\n",
       "    </tr>\n",
       "  </thead>\n",
       "  <tbody>\n",
       "    <tr>\n",
       "      <th>0</th>\n",
       "      <td>RKIsurv2-arima</td>\n",
       "      <td>31</td>\n",
       "      <td>1.000000</td>\n",
       "      <td>1.000000</td>\n",
       "      <td>0.452169</td>\n",
       "      <td>0.756077</td>\n",
       "    </tr>\n",
       "    <tr>\n",
       "      <th>1</th>\n",
       "      <td>HHI-seq2seq4096d14</td>\n",
       "      <td>1</td>\n",
       "      <td>8.185643</td>\n",
       "      <td>7.426270</td>\n",
       "      <td>0.000000</td>\n",
       "      <td>0.000000</td>\n",
       "    </tr>\n",
       "    <tr>\n",
       "      <th>2</th>\n",
       "      <td>HHI-seq2seq4096d21</td>\n",
       "      <td>1</td>\n",
       "      <td>8.242499</td>\n",
       "      <td>7.376012</td>\n",
       "      <td>0.000000</td>\n",
       "      <td>0.000000</td>\n",
       "    </tr>\n",
       "    <tr>\n",
       "      <th>3</th>\n",
       "      <td>HHI-seq2seq4096d28</td>\n",
       "      <td>1</td>\n",
       "      <td>8.239705</td>\n",
       "      <td>7.365612</td>\n",
       "      <td>0.000000</td>\n",
       "      <td>0.000000</td>\n",
       "    </tr>\n",
       "    <tr>\n",
       "      <th>4</th>\n",
       "      <td>HPI-baseMpnnLstm</td>\n",
       "      <td>15</td>\n",
       "      <td>0.512952</td>\n",
       "      <td>0.558373</td>\n",
       "      <td>0.285309</td>\n",
       "      <td>0.635565</td>\n",
       "    </tr>\n",
       "    <tr>\n",
       "      <th>5</th>\n",
       "      <td>HPI-decomp1</td>\n",
       "      <td>21</td>\n",
       "      <td>1.905669</td>\n",
       "      <td>1.223774</td>\n",
       "      <td>0.136381</td>\n",
       "      <td>0.304337</td>\n",
       "    </tr>\n",
       "    <tr>\n",
       "      <th>6</th>\n",
       "      <td>HHI-ConnstantSpreadTest</td>\n",
       "      <td>1</td>\n",
       "      <td>0.718878</td>\n",
       "      <td>0.181011</td>\n",
       "      <td>0.079663</td>\n",
       "      <td>0.080021</td>\n",
       "    </tr>\n",
       "    <tr>\n",
       "      <th>7</th>\n",
       "      <td>RKIsurv2-etsAAA</td>\n",
       "      <td>31</td>\n",
       "      <td>1.082272</td>\n",
       "      <td>1.067369</td>\n",
       "      <td>0.457513</td>\n",
       "      <td>0.749516</td>\n",
       "    </tr>\n",
       "    <tr>\n",
       "      <th>8</th>\n",
       "      <td>RKIsurv2-etsAAN</td>\n",
       "      <td>31</td>\n",
       "      <td>1.122335</td>\n",
       "      <td>1.130036</td>\n",
       "      <td>0.467174</td>\n",
       "      <td>0.752777</td>\n",
       "    </tr>\n",
       "    <tr>\n",
       "      <th>9</th>\n",
       "      <td>RKIsurv2-etsANN</td>\n",
       "      <td>31</td>\n",
       "      <td>0.952145</td>\n",
       "      <td>0.863889</td>\n",
       "      <td>0.410985</td>\n",
       "      <td>0.687796</td>\n",
       "    </tr>\n",
       "  </tbody>\n",
       "</table>\n",
       "</div>"
      ],
      "text/plain": [
       "                     model   n   rel_wis   rel_mae  50% coverage  95% coverage\n",
       "0           RKIsurv2-arima  31  1.000000  1.000000      0.452169      0.756077\n",
       "1       HHI-seq2seq4096d14   1  8.185643  7.426270      0.000000      0.000000\n",
       "2       HHI-seq2seq4096d21   1  8.242499  7.376012      0.000000      0.000000\n",
       "3       HHI-seq2seq4096d28   1  8.239705  7.365612      0.000000      0.000000\n",
       "4         HPI-baseMpnnLstm  15  0.512952  0.558373      0.285309      0.635565\n",
       "5              HPI-decomp1  21  1.905669  1.223774      0.136381      0.304337\n",
       "6  HHI-ConnstantSpreadTest   1  0.718878  0.181011      0.079663      0.080021\n",
       "7          RKIsurv2-etsAAA  31  1.082272  1.067369      0.457513      0.749516\n",
       "8          RKIsurv2-etsAAN  31  1.122335  1.130036      0.467174      0.752777\n",
       "9          RKIsurv2-etsANN  31  0.952145  0.863889      0.410985      0.687796"
      ]
     },
     "execution_count": 7,
     "metadata": {},
     "output_type": "execute_result"
    }
   ],
   "source": [
    "create_table3(results)"
   ]
  },
  {
   "cell_type": "markdown",
   "id": "65fd3747-1ee9-445e-a82c-034a5b095059",
   "metadata": {},
   "source": [
    "## Performance in regions\n",
    "The forecasting performance of each individual model in terms of average relative WIS for each state of Germany."
   ]
  },
  {
   "cell_type": "code",
   "execution_count": null,
   "id": "5cb09c2c-11b6-43dc-bdda-298d338d2b7b",
   "metadata": {},
   "outputs": [],
   "source": [
    "plt.ioff()\n",
    "regional_heatmap(results)\n",
    "save_current(\"docs/figures/regional_heatmap.png\")"
   ]
  },
  {
   "cell_type": "markdown",
   "id": "b7fd0527-cef9-4468-9741-c5092b9708e9",
   "metadata": {},
   "source": [
    "![Heatmap of relative WIS over regions and models](./figures/regional_heatmap.png)"
   ]
  },
  {
   "cell_type": "markdown",
   "id": "c34ccfcc-0b32-4372-a0da-0debaf6a12ab",
   "metadata": {},
   "source": [
    "## Coverage probability\n",
    "Shown here is the coverage of three different confidence intervals (50%, 80%, 95%) over time for each model. This shows how well calibrated the models are. Models are perfectly calibrated when the forecasted  x% confidence interval covers the true value x% of the time, e.g. the true value will be in the 50% confidence interval for half of the forecasts. A too low coverage means that confidence intervals are too narrow on average. A too high coverage means that confidence Intervals are too wide on average."
   ]
  },
  {
   "cell_type": "code",
   "execution_count": 6,
   "id": "2cb65bad-892c-4b5a-b2d3-02379805a361",
   "metadata": {},
   "outputs": [],
   "source": [
    "%matplotlib agg  \n",
    "\n",
    "#TODO possibly provide model independent x axis\n",
    "results[\"month\"] = np.datetime_as_string(results[\"target\"], \"M\")\n",
    "grouped = results.groupby([\"month\", \"model\"])\n",
    "coverage_cols = [col for col in list(results.columns) if \"within_\" in col]\n",
    "coverage = (grouped.sum()/grouped.count())[coverage_cols].reset_index()\n",
    "plot_coverage_probability(coverage, temporal_col=\"month\")"
   ]
  },
  {
   "cell_type": "markdown",
   "id": "1a807e65-9230-4805-81f8-ea3b4301e8dd",
   "metadata": {},
   "source": [
    "![Coverage probabilities per model](./figures/coverage.png)"
   ]
  },
  {
   "cell_type": "markdown",
   "id": "d86575eb-a318-4392-846b-34b2d4b48527",
   "metadata": {},
   "source": [
    "**Fig. 5: Coverage over time for each model and three different prediction intervals (50%, 80%, 95%). The dashed line shows the expected coverage for the given prediction interval.**"
   ]
  }
 ],
 "metadata": {
  "kernelspec": {
   "display_name": "Python 3 (ipykernel)",
   "language": "python",
   "name": "python3"
  },
  "language_info": {
   "codemirror_mode": {
    "name": "ipython",
    "version": 3
   },
   "file_extension": ".py",
   "mimetype": "text/x-python",
   "name": "python",
   "nbconvert_exporter": "python",
   "pygments_lexer": "ipython3",
   "version": "3.8.16"
  }
 },
 "nbformat": 4,
 "nbformat_minor": 5
}
